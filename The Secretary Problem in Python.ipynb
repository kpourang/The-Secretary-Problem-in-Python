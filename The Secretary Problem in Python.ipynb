{
 "cells": [
  {
   "cell_type": "markdown",
   "metadata": {},
   "source": [
    "<p>The secretary problem is a famous problem that demonstrates a scenario involving the optimal stopping theory. The problem has been studied extensively in the fields of applied probability, statistics, and decision theory. It is also known as the marriage problem, the sultan's dowry problem, the fussy suitor problem, the googol game, and the best choice problem. </p>\n",
    "\n",
    "<p>The basic form of the problem is the following: imagine an administrator who wants to hire the best secretary out of n rankable applicants for a position. The applicants are interviewed one by one in random order. A decision about each particular applicant is to be made immediately after the interview. Once rejected, an applicant cannot be recalled. During the interview, the administrator can rank the applicant among all applicants interviewed so far but is unaware of the quality of yet unseen applicants. The question is about the optimal strategy (stopping rule) to maximize the probability of selecting the best applicant. The difficulty is that the decision must be made immediately. </p>\n",
    "\n",
    "<p>The problem has an elegant solution, proving that the optimal win probability is always at least 1/e. The optimal stopping rule prescribes always rejecting the first 1/e % applicants that are interviewed at the look stage, and then stopping at the first applicant who is better than every applicant interviewed so far at the commit stage. One reason why the secretary problem has received so much attention is that the optimal policy for the problem (the stopping rule) is simple and selects the single best candidate about 37% of the time, irrespective of whether there are 100 or 100 million applicants. </p>\n",
    "\n",
    "<p><em><b>e</b></em> is the base of the natural logarithm.</p>\n",
    "\n",
    "<p>Although there are many variations, the basic problem can be stated as follows:</p>\n",
    "<ul>\n",
    "    <li>There is a single position to fill.</li>\n",
    "    <li>There are n applicants for the position, and the value of n is known.</li>\n",
    "    <li>The applicants, if seen altogether, can be ranked from best to worst unambiguously.</li>\n",
    "    <li>The applicants are interviewed sequentially in random order, with each order being equally likely.</li>\n",
    "    <li>Immediately after an interview, the interviewed applicant is either accepted or rejected, and the decision is irrevocable. </li>\n",
    "    <li>The decision to accept or reject an applicant can be based only on the relative ranks of the applicants interviewed so far. </li>\n",
    "    <li>The objective of the general solution is to have the highest probability of selecting the best applicant of the whole group. This is the same as maximizing the expected payoff, with payoff defined to be one for the best applicant and zero otherwise.</li>\n",
    "\n",
    "\n",
    "<p>To prove that this solution is optimal, we need to build a trial that should be executed 1,000 times and count the number of successes.</p>"
   ]
  },
  {
   "cell_type": "code",
   "execution_count": 2,
   "metadata": {},
   "outputs": [],
   "source": [
    "import numpy as np\n",
    "import math"
   ]
  },
  {
   "cell_type": "markdown",
   "metadata": {},
   "source": [
    "#### 1. Define the sample size and the number of trials as 1,000. "
   ]
  },
  {
   "cell_type": "code",
   "execution_count": 3,
   "metadata": {},
   "outputs": [],
   "source": [
    "size = 1000\n",
    "trials = 1000"
   ]
  },
  {
   "cell_type": "markdown",
   "metadata": {},
   "source": [
    "#### 2. Build a function called get_optimal_stop() that receives the sample size and the stop value and return an integer representing the position of the optimal stop. The stop value parameter should have the default value of 1/e. "
   ]
  },
  {
   "cell_type": "code",
   "execution_count": 6,
   "metadata": {},
   "outputs": [],
   "source": [
    "def get_optimal_stop(sample_size, stop_value = 1 / math.e):\n",
    "    return int(sample_size * stop_value)"
   ]
  },
  {
   "cell_type": "code",
   "execution_count": 5,
   "metadata": {},
   "outputs": [
    {
     "name": "stdout",
     "output_type": "stream",
     "text": [
      "368\n"
     ]
    }
   ],
   "source": [
    "print(get_optimal_stop(size, 0.368))"
   ]
  },
  {
   "cell_type": "code",
   "execution_count": 7,
   "metadata": {},
   "outputs": [
    {
     "name": "stdout",
     "output_type": "stream",
     "text": [
      "367\n"
     ]
    }
   ],
   "source": [
    "print(get_optimal_stop(size))"
   ]
  },
  {
   "cell_type": "markdown",
   "metadata": {},
   "source": [
    "#### 3. Build a function called create_pool() to simulate a pool of applicants. The function should receive the sample size and return an array containing the relative rank indicating the skill from 0 to sample size -1 in random order."
   ]
  },
  {
   "cell_type": "code",
   "execution_count": 8,
   "metadata": {},
   "outputs": [],
   "source": [
    "def create_pool(sample_size):\n",
    "    return np.random.permutation(sample_size)"
   ]
  },
  {
   "cell_type": "code",
   "execution_count": 11,
   "metadata": {},
   "outputs": [
    {
     "name": "stdout",
     "output_type": "stream",
     "text": [
      "[2 6 1 5 3 9 7 0 4 8]\n"
     ]
    }
   ],
   "source": [
    "print(create_pool(10))"
   ]
  },
  {
   "cell_type": "markdown",
   "metadata": {},
   "source": [
    "#### 4. Build a function called look_stage() that receives the array containing the pool of applicants and the optimal stop, and returns the best applicant of the beginning of the array until the optimal stop position."
   ]
  },
  {
   "cell_type": "code",
   "execution_count": 19,
   "metadata": {},
   "outputs": [],
   "source": [
    "def look_stage(pool, stop):\n",
    "    return np.argmax(pool[0: stop])\n",
    "\n",
    "\n",
    "#def look_stage(pool, stop):\n",
    " #   best_look = -1\n",
    "  #  for i in range(len(pool[0:stop])):\n",
    "   #     if pool[i] > pool[best_look]:\n",
    "    #        best_look = i\n",
    "    #return best_look"
   ]
  },
  {
   "cell_type": "code",
   "execution_count": 23,
   "metadata": {},
   "outputs": [
    {
     "name": "stdout",
     "output_type": "stream",
     "text": [
      "[ 6  9 14  5  4 12  7  3  8 13  1  2 10  0 11]\n"
     ]
    }
   ],
   "source": [
    "x = create_pool(15)\n",
    "print(x)"
   ]
  },
  {
   "cell_type": "code",
   "execution_count": 24,
   "metadata": {},
   "outputs": [
    {
     "name": "stdout",
     "output_type": "stream",
     "text": [
      "5\n"
     ]
    }
   ],
   "source": [
    "op_stop = get_optimal_stop(15)\n",
    "print(op_stop)"
   ]
  },
  {
   "cell_type": "code",
   "execution_count": 25,
   "metadata": {
    "scrolled": true
   },
   "outputs": [
    {
     "data": {
      "text/plain": [
       "2"
      ]
     },
     "execution_count": 25,
     "metadata": {},
     "output_type": "execute_result"
    }
   ],
   "source": [
    "look_stage(x, op_stop)"
   ]
  },
  {
   "cell_type": "code",
   "execution_count": 27,
   "metadata": {},
   "outputs": [
    {
     "data": {
      "text/plain": [
       "2"
      ]
     },
     "execution_count": 27,
     "metadata": {},
     "output_type": "execute_result"
    }
   ],
   "source": [
    "np.argmax(x[0:op_stop])"
   ]
  },
  {
   "cell_type": "markdown",
   "metadata": {},
   "source": [
    "#### 5. Build a function called commit_stage() that receives the array containing the pool of applicants, the optimal stop and the best applicant of the look stage, and returns the first applicant that is better than the threshold defined in the look stage from the optimal stop until the end of the array."
   ]
  },
  {
   "cell_type": "code",
   "execution_count": 26,
   "metadata": {},
   "outputs": [],
   "source": [
    "def commit_stage(pool, stop, best):\n",
    "    for i in list(range(stop, len(pool))):\n",
    "        if pool[i] > pool[best]:\n",
    "            return i\n",
    "    return i"
   ]
  },
  {
   "cell_type": "code",
   "execution_count": 28,
   "metadata": {},
   "outputs": [
    {
     "data": {
      "text/plain": [
       "14"
      ]
     },
     "execution_count": 28,
     "metadata": {},
     "output_type": "execute_result"
    }
   ],
   "source": [
    "commit_stage(x, op_stop, 2)"
   ]
  },
  {
   "cell_type": "markdown",
   "metadata": {},
   "source": [
    "#### 6. Build a function called best_of_all() that receives the array containing the pool of applicants and return the best of all."
   ]
  },
  {
   "cell_type": "code",
   "execution_count": 29,
   "metadata": {},
   "outputs": [],
   "source": [
    "def best_of_all(pool):\n",
    "    return np.argmax(pool)"
   ]
  },
  {
   "cell_type": "code",
   "execution_count": 30,
   "metadata": {},
   "outputs": [
    {
     "data": {
      "text/plain": [
       "2"
      ]
     },
     "execution_count": 30,
     "metadata": {},
     "output_type": "execute_result"
    }
   ],
   "source": [
    "best_of_all(x)"
   ]
  },
  {
   "cell_type": "markdown",
   "metadata": {},
   "source": [
    "#### 7. Build a function called one_round() with no parameters, that calls create_pool(), look_stage(), commit_stage(), best_of_all(). If the commit_stage() returns the same value of best_of_all(), the strategy was successfully executed and should return 1. Otherwise, returns 0."
   ]
  },
  {
   "cell_type": "code",
   "execution_count": 31,
   "metadata": {},
   "outputs": [],
   "source": [
    "def one_round():\n",
    "    secretaries = create_pool(size)\n",
    "    best_look = look_stage(secretaries, optimal_stop)\n",
    "    chosen_candidate = commit_stage(secretaries, optimal_stop, best_look)\n",
    "    best_candidate = best_of_all(secretaries)\n",
    "    \n",
    "    if chosen_candidate == best_candidate:\n",
    "        return 1\n",
    "    else:\n",
    "        return 0\n",
    "    "
   ]
  },
  {
   "cell_type": "code",
   "execution_count": 32,
   "metadata": {},
   "outputs": [],
   "source": [
    "optimal_stop = get_optimal_stop(size)"
   ]
  },
  {
   "cell_type": "code",
   "execution_count": 42,
   "metadata": {},
   "outputs": [
    {
     "data": {
      "text/plain": [
       "1"
      ]
     },
     "execution_count": 42,
     "metadata": {},
     "output_type": "execute_result"
    }
   ],
   "source": [
    "one_round()"
   ]
  },
  {
   "cell_type": "markdown",
   "metadata": {},
   "source": [
    "#### 8. Define the optimal stop using just the sample_size parameter (using the default stop_value), and run the one_round() function for the number of trials, counting the success cases and print the result."
   ]
  },
  {
   "cell_type": "code",
   "execution_count": 53,
   "metadata": {},
   "outputs": [
    {
     "name": "stdout",
     "output_type": "stream",
     "text": [
      "In 1000 trials, the optimal decision was made 36.90% of the time\n"
     ]
    }
   ],
   "source": [
    "count = 0\n",
    "for t in list(range(trials)):\n",
    "    count = count + one_round()\n",
    "\n",
    "print('In {} trials, the optimal decision was made {:,.2f}% of the time'.format(trials, count / trials * 100))"
   ]
  },
  {
   "cell_type": "markdown",
   "metadata": {},
   "source": [
    "#### 9. Call the optimal_stop() passing the stop_value as 0.10 and run the experiment again."
   ]
  },
  {
   "cell_type": "code",
   "execution_count": 54,
   "metadata": {},
   "outputs": [],
   "source": [
    "optimal_stop = get_optimal_stop(size, 0.1)"
   ]
  },
  {
   "cell_type": "code",
   "execution_count": 55,
   "metadata": {},
   "outputs": [
    {
     "name": "stdout",
     "output_type": "stream",
     "text": [
      "In 1000 trials, the optimal decision was made 23.10% of the time\n"
     ]
    }
   ],
   "source": [
    "count = 0\n",
    "for t in list(range(trials)):\n",
    "    count = count + one_round()\n",
    "\n",
    "print('In {} trials, the optimal decision was made {:,.2f}% of the time'.format(trials, count / trials * 100))"
   ]
  },
  {
   "cell_type": "markdown",
   "metadata": {},
   "source": [
    "#### 10. Call the optimal_stop() passing the stop_value as 0.90 and run the experiment again."
   ]
  },
  {
   "cell_type": "code",
   "execution_count": 56,
   "metadata": {},
   "outputs": [],
   "source": [
    "optimal_stop = get_optimal_stop(size, 0.9)"
   ]
  },
  {
   "cell_type": "code",
   "execution_count": 57,
   "metadata": {},
   "outputs": [
    {
     "name": "stdout",
     "output_type": "stream",
     "text": [
      "In 1000 trials, the optimal decision was made 9.60% of the time\n"
     ]
    }
   ],
   "source": [
    "count = 0\n",
    "for t in list(range(trials)):\n",
    "    count = count + one_round()\n",
    "\n",
    "print('In {} trials, the optimal decision was made {:,.2f}% of the time'.format(trials, count / trials * 100))"
   ]
  }
 ],
 "metadata": {
  "kernelspec": {
   "display_name": "Python 3",
   "language": "python",
   "name": "python3"
  },
  "language_info": {
   "codemirror_mode": {
    "name": "ipython",
    "version": 3
   },
   "file_extension": ".py",
   "mimetype": "text/x-python",
   "name": "python",
   "nbconvert_exporter": "python",
   "pygments_lexer": "ipython3",
   "version": "3.8.5"
  }
 },
 "nbformat": 4,
 "nbformat_minor": 4
}
